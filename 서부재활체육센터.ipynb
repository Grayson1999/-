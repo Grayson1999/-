{
 "cells": [
  {
   "cell_type": "code",
   "execution_count": 225,
   "id": "a27bc0be",
   "metadata": {},
   "outputs": [],
   "source": [
    "import requests\n",
    "from bs4 import BeautifulSoup as bs\n",
    "import pandas as pd"
   ]
  },
  {
   "cell_type": "code",
   "execution_count": 226,
   "id": "c1801b80",
   "metadata": {},
   "outputs": [],
   "source": [
    "my_columns = [\"프로그램\", \"대상\",\"참가요일\",\"시간\",\"회비\"]\n",
    "table_df = pd.DataFrame(columns = columns)"
   ]
  },
  {
   "cell_type": "code",
   "execution_count": 227,
   "id": "92de4841",
   "metadata": {},
   "outputs": [],
   "source": [
    "##데이터 가져오기\n",
    "html = requests.get(\"http://www.sbsports.or.kr/sub/wrcAble.do\").text\n",
    "htmlAll = bs(html,'html.parser')"
   ]
  },
  {
   "cell_type": "code",
   "execution_count": 228,
   "id": "33f7c9f8",
   "metadata": {},
   "outputs": [],
   "source": [
    "## 모든 표 df로 만들기\n",
    "df_list = pd.read_html(html,header=0)"
   ]
  },
  {
   "cell_type": "code",
   "execution_count": 229,
   "id": "7a475c01",
   "metadata": {},
   "outputs": [
    {
     "name": "stdout",
     "output_type": "stream",
     "text": [
      "['수영장 프로그램', '재활헬스 교실 시간표', '체육관 테이블', '재활운동 테이블', '문화교실 테이블']\n"
     ]
    }
   ],
   "source": [
    "## 프로그램 이름 리스트\n",
    "tableNames = htmlAll.find_all('caption')\n",
    "tb_names_list = [name.text.strip() for name in tableNames]\n",
    "print(tb_names_list)"
   ]
  },
  {
   "cell_type": "code",
   "execution_count": 247,
   "id": "eb5bbdca",
   "metadata": {},
   "outputs": [],
   "source": [
    "##dic 초기화\n",
    "dic={}\n",
    "for col in my_columns:\n",
    "    dic[col]=list()"
   ]
  },
  {
   "cell_type": "code",
   "execution_count": 231,
   "id": "a951d30e",
   "metadata": {},
   "outputs": [],
   "source": [
    "##현재 테이블의 컬럼 가져오기\n",
    "current_col = df_list[0].columns.tolist()\n",
    "for name in current_col:\n",
    "    df_list[0]=df_list[0].rename({name:name.replace(\" \",\"\")},axis=1)\n",
    "##list 전체 스페이스 제거\n",
    "current_col = [i.replace(\" \",\"\") for i in current_col]"
   ]
  },
  {
   "cell_type": "code",
   "execution_count": 232,
   "id": "21bc2f90",
   "metadata": {},
   "outputs": [
    {
     "data": {
      "text/plain": [
       "['프로그램', '참가요일', '시간', '회비']"
      ]
     },
     "execution_count": 232,
     "metadata": {},
     "output_type": "execute_result"
    }
   ],
   "source": [
    "## 3중 for문 등 여러 문제로 인해 하드한 코딩으로 진행함\n",
    "for col in current_col:\n",
    "    if col == \"비고\":\n",
    "        current_col.remove(col)\n",
    "    elif col == \"구분\":\n",
    "        current_col.remove(col)\n",
    "        current_col.append(\"프로그램\")\n",
    "    elif col == \"참가요일 및 시간\":\n",
    "        current_col.remove(col)\n",
    "        current_col.append(\"참가요일\")\n",
    "    elif col == \"정원\":\n",
    "        current_col.remove(col)\n",
    "current_col"
   ]
  },
  {
   "cell_type": "code",
   "execution_count": 236,
   "id": "d4048a74",
   "metadata": {},
   "outputs": [
    {
     "name": "stdout",
     "output_type": "stream",
     "text": [
      "['프로그램', '시간', '참가요일', '회비'] ['대상']\n"
     ]
    }
   ],
   "source": [
    "inter_col = list(set(my_columns) & set(current_col))\n",
    "differ_col = list(set(my_columns).difference(current_col))\n",
    "print(inter_col,differ_col)"
   ]
  },
  {
   "cell_type": "code",
   "execution_count": 248,
   "id": "ed145da2",
   "metadata": {},
   "outputs": [],
   "source": [
    "for inter in inter_col:\n",
    "    for value in df_list[0][inter]:\n",
    "        dic[inter].append(value)\n",
    "for differ in differ_col:\n",
    "    for _ in range(len(df_list[0][inter_col[0]])):\n",
    "        dic[differ].append(\"\")"
   ]
  },
  {
   "cell_type": "code",
   "execution_count": 250,
   "id": "e83702c2",
   "metadata": {},
   "outputs": [
    {
     "data": {
      "text/html": [
       "<div>\n",
       "<style scoped>\n",
       "    .dataframe tbody tr th:only-of-type {\n",
       "        vertical-align: middle;\n",
       "    }\n",
       "\n",
       "    .dataframe tbody tr th {\n",
       "        vertical-align: top;\n",
       "    }\n",
       "\n",
       "    .dataframe thead th {\n",
       "        text-align: right;\n",
       "    }\n",
       "</style>\n",
       "<table border=\"1\" class=\"dataframe\">\n",
       "  <thead>\n",
       "    <tr style=\"text-align: right;\">\n",
       "      <th></th>\n",
       "      <th>프로그램</th>\n",
       "      <th>대상</th>\n",
       "      <th>참가요일</th>\n",
       "      <th>시간</th>\n",
       "      <th>회비</th>\n",
       "    </tr>\n",
       "  </thead>\n",
       "  <tbody>\n",
       "    <tr>\n",
       "      <th>0</th>\n",
       "      <td>성인 재활수영</td>\n",
       "      <td></td>\n",
       "      <td>월,수,금</td>\n",
       "      <td>새벽 7시 오전 9시/10시/ 11시</td>\n",
       "      <td>43,000원 / 보호자 48,000원</td>\n",
       "    </tr>\n",
       "    <tr>\n",
       "      <th>1</th>\n",
       "      <td>성인 재활수영</td>\n",
       "      <td></td>\n",
       "      <td>화,목</td>\n",
       "      <td>새벽 7시 오전 9시/ 10시</td>\n",
       "      <td>36,000원 / 보호자 40,000원</td>\n",
       "    </tr>\n",
       "    <tr>\n",
       "      <th>2</th>\n",
       "      <td>성인 재활수영</td>\n",
       "      <td></td>\n",
       "      <td>월,화,목,금-강습 / 수-자유수영</td>\n",
       "      <td>오후 7시</td>\n",
       "      <td>58,000원 / 보호자 64,000원</td>\n",
       "    </tr>\n",
       "    <tr>\n",
       "      <th>3</th>\n",
       "      <td>성인 재활수영</td>\n",
       "      <td></td>\n",
       "      <td>월-금(엔젤스돌핀) (상담후 접수가능)</td>\n",
       "      <td>오후 5시(헬스)/오후 6시(수영)</td>\n",
       "      <td>130,000원</td>\n",
       "    </tr>\n",
       "    <tr>\n",
       "      <th>4</th>\n",
       "      <td>왓슈(아쿠아)</td>\n",
       "      <td></td>\n",
       "      <td>월,수,금</td>\n",
       "      <td>오후 1시/9시</td>\n",
       "      <td>84,000원</td>\n",
       "    </tr>\n",
       "    <tr>\n",
       "      <th>5</th>\n",
       "      <td>왓슈(아쿠아)</td>\n",
       "      <td></td>\n",
       "      <td>화,목</td>\n",
       "      <td>오전 8시/11시/오후 2시</td>\n",
       "      <td>70,000원</td>\n",
       "    </tr>\n",
       "    <tr>\n",
       "      <th>6</th>\n",
       "      <td>초등 청소년 재활수영 (보호자 필히 동반)</td>\n",
       "      <td></td>\n",
       "      <td>월,수,금(다은A)</td>\n",
       "      <td>오후 4시(초등)</td>\n",
       "      <td>180,000원</td>\n",
       "    </tr>\n",
       "    <tr>\n",
       "      <th>7</th>\n",
       "      <td>초등 청소년 재활수영 (보호자 필히 동반)</td>\n",
       "      <td></td>\n",
       "      <td>화,목(둘리B)</td>\n",
       "      <td>오후 4시</td>\n",
       "      <td>81,000원(보호자 포함요금)</td>\n",
       "    </tr>\n",
       "    <tr>\n",
       "      <th>8</th>\n",
       "      <td>초등 청소년 재활수영 (보호자 필히 동반)</td>\n",
       "      <td></td>\n",
       "      <td>월,수,금(다은B)</td>\n",
       "      <td>오후 5시(청소년)</td>\n",
       "      <td>180,000원</td>\n",
       "    </tr>\n",
       "    <tr>\n",
       "      <th>9</th>\n",
       "      <td>니모반 (65세 이상 어르신)</td>\n",
       "      <td></td>\n",
       "      <td>월,수,금</td>\n",
       "      <td>오후 2시</td>\n",
       "      <td>43,000원 / 보호자 48,000원</td>\n",
       "    </tr>\n",
       "    <tr>\n",
       "      <th>10</th>\n",
       "      <td>니모반 (65세 이상 어르신)</td>\n",
       "      <td></td>\n",
       "      <td>화, 목</td>\n",
       "      <td>오후 1시</td>\n",
       "      <td>36,000원 / 보호자 40,000원</td>\n",
       "    </tr>\n",
       "    <tr>\n",
       "      <th>11</th>\n",
       "      <td>개별수중운동 (중증장애)</td>\n",
       "      <td></td>\n",
       "      <td>주2회 (유아, 어린이, 중고생, 성인)</td>\n",
       "      <td>상담후 접수가능</td>\n",
       "      <td>1:2 (300,000원)1:3 (250,000원)</td>\n",
       "    </tr>\n",
       "    <tr>\n",
       "      <th>12</th>\n",
       "      <td>월 자유수영</td>\n",
       "      <td></td>\n",
       "      <td>월~금</td>\n",
       "      <td>오전 8시 / 오후 12시</td>\n",
       "      <td>월 41,000원</td>\n",
       "    </tr>\n",
       "    <tr>\n",
       "      <th>13</th>\n",
       "      <td>개인락카</td>\n",
       "      <td></td>\n",
       "      <td>보증금 10,000원(락카 반납시 환불) / 월 이용료 : 3,000원 또는 5,0...</td>\n",
       "      <td>보증금 10,000원(락카 반납시 환불) / 월 이용료 : 3,000원 또는 5,0...</td>\n",
       "      <td>보증금 10,000원(락카 반납시 환불) / 월 이용료 : 3,000원 또는 5,0...</td>\n",
       "    </tr>\n",
       "  </tbody>\n",
       "</table>\n",
       "</div>"
      ],
      "text/plain": [
       "                       프로그램 대상  \\\n",
       "0                   성인 재활수영      \n",
       "1                   성인 재활수영      \n",
       "2                   성인 재활수영      \n",
       "3                   성인 재활수영      \n",
       "4                   왓슈(아쿠아)      \n",
       "5                   왓슈(아쿠아)      \n",
       "6   초등 청소년 재활수영 (보호자 필히 동반)      \n",
       "7   초등 청소년 재활수영 (보호자 필히 동반)      \n",
       "8   초등 청소년 재활수영 (보호자 필히 동반)      \n",
       "9          니모반 (65세 이상 어르신)      \n",
       "10         니모반 (65세 이상 어르신)      \n",
       "11            개별수중운동 (중증장애)      \n",
       "12                   월 자유수영      \n",
       "13                     개인락카      \n",
       "\n",
       "                                                 참가요일  \\\n",
       "0                                               월,수,금   \n",
       "1                                                 화,목   \n",
       "2                                 월,화,목,금-강습 / 수-자유수영   \n",
       "3                               월-금(엔젤스돌핀) (상담후 접수가능)   \n",
       "4                                               월,수,금   \n",
       "5                                                 화,목   \n",
       "6                                          월,수,금(다은A)   \n",
       "7                                            화,목(둘리B)   \n",
       "8                                          월,수,금(다은B)   \n",
       "9                                               월,수,금   \n",
       "10                                               화, 목   \n",
       "11                             주2회 (유아, 어린이, 중고생, 성인)   \n",
       "12                                                월~금   \n",
       "13  보증금 10,000원(락카 반납시 환불) / 월 이용료 : 3,000원 또는 5,0...   \n",
       "\n",
       "                                                   시간  \\\n",
       "0                                새벽 7시 오전 9시/10시/ 11시   \n",
       "1                                    새벽 7시 오전 9시/ 10시   \n",
       "2                                               오후 7시   \n",
       "3                                 오후 5시(헬스)/오후 6시(수영)   \n",
       "4                                            오후 1시/9시   \n",
       "5                                     오전 8시/11시/오후 2시   \n",
       "6                                           오후 4시(초등)   \n",
       "7                                               오후 4시   \n",
       "8                                          오후 5시(청소년)   \n",
       "9                                               오후 2시   \n",
       "10                                              오후 1시   \n",
       "11                                           상담후 접수가능   \n",
       "12                                     오전 8시 / 오후 12시   \n",
       "13  보증금 10,000원(락카 반납시 환불) / 월 이용료 : 3,000원 또는 5,0...   \n",
       "\n",
       "                                                   회비  \n",
       "0                               43,000원 / 보호자 48,000원  \n",
       "1                               36,000원 / 보호자 40,000원  \n",
       "2                               58,000원 / 보호자 64,000원  \n",
       "3                                            130,000원  \n",
       "4                                             84,000원  \n",
       "5                                             70,000원  \n",
       "6                                            180,000원  \n",
       "7                                   81,000원(보호자 포함요금)  \n",
       "8                                            180,000원  \n",
       "9                               43,000원 / 보호자 48,000원  \n",
       "10                              36,000원 / 보호자 40,000원  \n",
       "11                       1:2 (300,000원)1:3 (250,000원)  \n",
       "12                                          월 41,000원  \n",
       "13  보증금 10,000원(락카 반납시 환불) / 월 이용료 : 3,000원 또는 5,0...  "
      ]
     },
     "execution_count": 250,
     "metadata": {},
     "output_type": "execute_result"
    }
   ],
   "source": [
    "pd.DataFrame(dic)"
   ]
  }
 ],
 "metadata": {
  "kernelspec": {
   "display_name": "Python 3",
   "language": "python",
   "name": "python3"
  },
  "language_info": {
   "codemirror_mode": {
    "name": "ipython",
    "version": 3
   },
   "file_extension": ".py",
   "mimetype": "text/x-python",
   "name": "python",
   "nbconvert_exporter": "python",
   "pygments_lexer": "ipython3",
   "version": "3.8.8"
  }
 },
 "nbformat": 4,
 "nbformat_minor": 5
}
