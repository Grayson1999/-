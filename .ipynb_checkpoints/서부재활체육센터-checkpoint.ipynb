{
 "cells": [
  {
   "cell_type": "code",
   "execution_count": 145,
   "id": "a27bc0be",
   "metadata": {},
   "outputs": [],
   "source": [
    "import requests\n",
    "from bs4 import BeautifulSoup as bs\n",
    "import pandas as pd"
   ]
  },
  {
   "cell_type": "code",
   "execution_count": 152,
   "id": "c1801b80",
   "metadata": {},
   "outputs": [],
   "source": [
    "my_columns = [\"프로그램\", \"대상\",\"참가요일\",\"시간\",\"회비\"]\n",
    "table_df = pd.DataFrame(columns = columns)"
   ]
  },
  {
   "cell_type": "code",
   "execution_count": 147,
   "id": "92de4841",
   "metadata": {},
   "outputs": [],
   "source": [
    "##데이터 가져오기\n",
    "html = requests.get(\"http://www.sbsports.or.kr/sub/wrcAble.do\").text\n",
    "htmlAll = bs(html,'html.parser')"
   ]
  },
  {
   "cell_type": "code",
   "execution_count": 148,
   "id": "33f7c9f8",
   "metadata": {},
   "outputs": [],
   "source": [
    "## 모든 표 df로 만들기\n",
    "df_list = pd.read_html(html,header=0)"
   ]
  },
  {
   "cell_type": "code",
   "execution_count": 149,
   "id": "7a475c01",
   "metadata": {},
   "outputs": [
    {
     "name": "stdout",
     "output_type": "stream",
     "text": [
      "['수영장 프로그램', '재활헬스 교실 시간표', '체육관 테이블', '재활운동 테이블', '문화교실 테이블']\n"
     ]
    }
   ],
   "source": [
    "## 프로그램 이름 리스트\n",
    "tableNames = htmlAll.find_all('caption')\n",
    "tb_names_list = [name.text.strip() for name in tableNames]\n",
    "print(tb_names_list)"
   ]
  },
  {
   "cell_type": "code",
   "execution_count": 150,
   "id": "eb5bbdca",
   "metadata": {},
   "outputs": [],
   "source": [
    "##dic 초기화\n",
    "dic={}\n",
    "for col in my_columns:\n",
    "    dic[col]=list()"
   ]
  },
  {
   "cell_type": "code",
   "execution_count": 166,
   "id": "176e37d1",
   "metadata": {},
   "outputs": [],
   "source": [
    "current_col = df_list[1].columns.tolist()"
   ]
  },
  {
   "cell_type": "code",
   "execution_count": 168,
   "id": "c8e68310",
   "metadata": {},
   "outputs": [
    {
     "data": {
      "text/plain": [
       "['참가요일', '시 간', '회 비', '프로그램']"
      ]
     },
     "execution_count": 168,
     "metadata": {},
     "output_type": "execute_result"
    }
   ],
   "source": [
    "## 3중 for문 등 여러 문제로 인해 조금 더 하드한 코딩으로 진행함\n",
    "for col in current_col:\n",
    "    if col in \"비 고\":\n",
    "        current_col.remove(col)\n",
    "    elif col in \"구 분\":\n",
    "        current_col.remove(col)\n",
    "        current_col.append(\"프로그램\")\n",
    "    elif col in \"참가요일 및 시간\":\n",
    "        current_col.remove(col)\n",
    "        current_col.append(\"참가요일\")\n",
    "    elif col in \"정원\":\n",
    "        current_col.remove(col)\n",
    "current_col"
   ]
  },
  {
   "cell_type": "code",
   "execution_count": null,
   "id": "dc6c0648",
   "metadata": {},
   "outputs": [],
   "source": []
  }
 ],
 "metadata": {
  "kernelspec": {
   "display_name": "Python 3",
   "language": "python",
   "name": "python3"
  },
  "language_info": {
   "codemirror_mode": {
    "name": "ipython",
    "version": 3
   },
   "file_extension": ".py",
   "mimetype": "text/x-python",
   "name": "python",
   "nbconvert_exporter": "python",
   "pygments_lexer": "ipython3",
   "version": "3.8.8"
  }
 },
 "nbformat": 4,
 "nbformat_minor": 5
}
