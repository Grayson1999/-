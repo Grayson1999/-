{
 "cells": [
  {
   "cell_type": "code",
   "execution_count": 3,
   "id": "57af8d22",
   "metadata": {},
   "outputs": [],
   "source": [
    "from itertools import count\n",
    "import requests\n",
    "from bs4 import BeautifulSoup as bs\n",
    "import pandas as pd\n",
    "from crawlingutil import CrawlingUtill"
   ]
  },
  {
   "cell_type": "code",
   "execution_count": 4,
   "id": "10219a2e",
   "metadata": {},
   "outputs": [
    {
     "data": {
      "text/plain": [
       "'106'"
      ]
     },
     "execution_count": 4,
     "metadata": {},
     "output_type": "execute_result"
    }
   ],
   "source": [
    "sitename = \"서부산권장애인스포츠센터\"\n",
    "## 페이지 url 확인\n",
    "html = requests.get(\"https://www.sbsd.kr/Home\").text\n",
    "htmlAll = bs(html,'html.parser')\n",
    "programpage = htmlAll.find(\"li\",{\"class\":\"cd1 cd1c4\"}).find(\"a\")[\"href\"].split(\"/\")[-1]"
   ]
  },
  {
   "cell_type": "code",
   "execution_count": 41,
   "id": "d44bfa5a",
   "metadata": {},
   "outputs": [],
   "source": [
    "## '프로그램' 페이지 접근\n",
    "html = html = requests.get(\"https://www.sbsd.kr/Home/\"+programpage).text\n",
    "htmlAll = bs(html,'html.parser')\n",
    "pages = htmlAll.find('nav',{\"class\":\"tabmenu con_tab four no_pdt\"}).find_all(\"li\",{\"class\":\"cd3\"})"
   ]
  },
  {
   "cell_type": "code",
   "execution_count": 42,
   "id": "42b3598a",
   "metadata": {},
   "outputs": [],
   "source": [
    "##프로그램 페이지url 저장\n",
    "programURLs = []\n",
    "for elem in pages:\n",
    "    programURLs.append(elem.find(\"a\")[\"href\"].split(\"/\")[-1])   ## 페이지 넘버\n",
    "name_dic={\"구분\":[]}"
   ]
  },
  {
   "cell_type": "code",
   "execution_count": 43,
   "id": "b59be859",
   "metadata": {},
   "outputs": [],
   "source": [
    "## 컬럼 지정\n",
    "my_columns = [\"프로그램\", \"시간\", \"대상\", \"요일\", \"사용료\", \"정원\"]\n",
    "## dic 초기화\n",
    "dic={}\n",
    "for col in my_columns:\n",
    "    dic[col]=list()"
   ]
  },
  {
   "cell_type": "code",
   "execution_count": 44,
   "id": "3cef765c",
   "metadata": {},
   "outputs": [],
   "source": [
    "##데이터 가져오기\n",
    "for i in range(len(programURLs)):\n",
    "    html = requests.get(\"https://www.sbsd.kr/Home/\"+programURLs[i]).text\n",
    "    htmlAll = bs(html,'html.parser')\n",
    "    # 표 df로 변환\n",
    "    first_df = pd.read_html(html,header=0)[0]\n",
    "    #현재 테이블 컬럼 가져오기\n",
    "    current_col = first_df.columns.tolist()\n",
    "    for col in current_col:\n",
    "        if col == \"교육일\":\n",
    "            first_df = first_df.rename({col:\"요일\"},axis=1)\n",
    "            col = \"요일\"\n",
    "        for value in first_df[col]:\n",
    "            dic[col].append(value)\n",
    "    for _ in range(len(first_df[current_col[0]].values)):\n",
    "        name_dic[\"구분\"].append(htmlAll.find('div',{'class':'s_subject'}).find(\"p\").text)\n",
    "dic.update(name_dic)"
   ]
  },
  {
   "cell_type": "code",
   "execution_count": 45,
   "id": "ad3baa1f",
   "metadata": {},
   "outputs": [],
   "source": [
    "##df 생성 및 컬럼 순서 변경\n",
    "sort_columns = list(my_columns)\n",
    "sort_columns.insert(0,\"구분\")\n",
    "result_df = pd.DataFrame(dic)\n",
    "result_df = result_df[sort_columns]\n",
    "result_df = result_df.dropna(axis=0)# 결측값 행 제거"
   ]
  },
  {
   "cell_type": "code",
   "execution_count": 46,
   "id": "85c92fac",
   "metadata": {},
   "outputs": [],
   "source": [
    "result_df.to_csv('./{}.csv'.format(sitename), sep=',', na_rep='NaN',encoding=\"CP949\", index=False)"
   ]
  },
  {
   "cell_type": "code",
   "execution_count": null,
   "id": "e8e6ce44",
   "metadata": {},
   "outputs": [],
   "source": []
  }
 ],
 "metadata": {
  "kernelspec": {
   "display_name": "Python 3",
   "language": "python",
   "name": "python3"
  },
  "language_info": {
   "codemirror_mode": {
    "name": "ipython",
    "version": 3
   },
   "file_extension": ".py",
   "mimetype": "text/x-python",
   "name": "python",
   "nbconvert_exporter": "python",
   "pygments_lexer": "ipython3",
   "version": "3.8.8"
  }
 },
 "nbformat": 4,
 "nbformat_minor": 5
}
