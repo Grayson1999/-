{
 "cells": [
  {
   "cell_type": "code",
   "execution_count": 22,
   "id": "9c24640a",
   "metadata": {},
   "outputs": [],
   "source": [
    "from itertools import count\n",
    "import requests\n",
    "from bs4 import BeautifulSoup as bs\n",
    "import pandas as pd"
   ]
  },
  {
   "cell_type": "code",
   "execution_count": 23,
   "id": "ccf47891",
   "metadata": {},
   "outputs": [],
   "source": [
    "sitename = \"서부재활체육센터\"\n",
    "my_columns = [\"프로그램명\",\"설명\",\"담당자이름\",\"담당기관\",\"담당자연락처\",\"신청자격\",\"신청방법\",\"연결URL\"]\n",
    "url = \"http://www.sbsports.or.kr/sub/wrcAble.do\"\n",
    "\n",
    "dic={}\n",
    "for col in my_columns:\n",
    "    dic[col]=list()\n",
    "name_dic={\"구분\":[]}\n",
    "sitename = sitename"
   ]
  },
  {
   "cell_type": "code",
   "execution_count": 24,
   "id": "f7240215",
   "metadata": {},
   "outputs": [],
   "source": [
    "html = requests.get(url).text\n",
    "htmlAll = bs(html,'html.parser')"
   ]
  },
  {
   "cell_type": "code",
   "execution_count": 25,
   "id": "4f8cb4ab",
   "metadata": {},
   "outputs": [],
   "source": [
    "df_list = pd.read_html(html,header=0)\n",
    "tb_name_list = [x.text.strip() for x in htmlAll.find_all(\"caption\")]"
   ]
  },
  {
   "cell_type": "code",
   "execution_count": 33,
   "id": "f463797d",
   "metadata": {},
   "outputs": [],
   "source": [
    "def col_append_data(df, grogram_name_func, current_col=[], differ_col = []):\n",
    "    for col in current_col:\n",
    "        for value in df[col]:\n",
    "            dic[col].append(value)\n",
    "    if len(differ_col) != 0:\n",
    "        for differ in differ_col:\n",
    "            for _ in range(len(df[col])):\n",
    "                dic[differ].append(\"\")\n",
    "    for _ in range(len(df[current_col[0]].values)):\n",
    "        name_dic[\"구분\"].append(grogram_name_func)"
   ]
  },
  {
   "cell_type": "code",
   "execution_count": 37,
   "id": "ae0cde6f",
   "metadata": {},
   "outputs": [],
   "source": [
    "for i in range(len(df_list)):#len(df_list)\n",
    "        ##현재 테이블의 컬럼 가져오기\n",
    "        current_col = df_list[i].columns.tolist()\n",
    "        for name in current_col:\n",
    "            df_list[i]=df_list[i].rename({name:name.replace(\" \",\"\")},axis=1)\n",
    "        current_col = df_list[i].columns.tolist()\n",
    "\n",
    "        for col in current_col:\n",
    "            if col == \"비고\":\n",
    "                df_list[i]=df_list[i].rename({col:\"설명\"},axis=1)\n",
    "                current_col.remove(col)\n",
    "                current_col.append(\"설명\")\n",
    "            if col == \"구분\" or col == \"프로그램\":\n",
    "                df_list[i]=df_list[i].rename({col:\"프로그램명\"},axis=1)\n",
    "                current_col.remove(col)\n",
    "                current_col.append(\"프로그램명\")\n",
    "            if col == \"참가요일 및 시간\":\n",
    "                # df_list[i]=df_list[i].rename({col:\"참가요일\"},axis=1)\n",
    "                # current_col.remove(col)\n",
    "                # current_col.append(\"참가요일\")\n",
    "                current_col.remove(col)\n",
    "            if col == \"정원\":\n",
    "                current_col.remove(col)\n",
    "            if col == \"프로그램.1\":\n",
    "                current_col.remove(col)\n",
    "            if col == \"대상\":\n",
    "                df_list[i]=df_list[i].rename({col:\"신청자격\"},axis=1)\n",
    "                current_col.remove(col)\n",
    "                current_col.append(\"신청자격\")\n",
    "\n",
    "        inter_col = list(set(my_columns) & set(current_col))\n",
    "        differ_col = list(set(my_columns).difference(current_col))\n",
    "        col_append_data(df_list[i],tb_name_list[i][:-3]+\"프로그램\" if tb_name_list[i].find(\"테이블\")!=-1 else tb_name_list[i], current_col = inter_col, differ_col = differ_col)"
   ]
  },
  {
   "cell_type": "code",
   "execution_count": 39,
   "id": "41cea048",
   "metadata": {},
   "outputs": [],
   "source": [
    "dic.update(name_dic)"
   ]
  },
  {
   "cell_type": "code",
   "execution_count": null,
   "id": "b517c60f",
   "metadata": {},
   "outputs": [],
   "source": [
    "sort_columns = list(my_columns)\n",
    "sort_columns.insert(0,\"구분\")\n",
    "result_df = pd.DataFrame(self.dic)\n",
    "result_df = result_df[sort_columns]\n",
    "result_df.to_csv('./{}.csv'.format(self.sitename), sep=',', na_rep='NaN',encoding=\"utf-8-sig\", index=False)"
   ]
  }
 ],
 "metadata": {
  "kernelspec": {
   "display_name": "Python 3",
   "language": "python",
   "name": "python3"
  },
  "language_info": {
   "codemirror_mode": {
    "name": "ipython",
    "version": 3
   },
   "file_extension": ".py",
   "mimetype": "text/x-python",
   "name": "python",
   "nbconvert_exporter": "python",
   "pygments_lexer": "ipython3",
   "version": "3.8.8"
  }
 },
 "nbformat": 4,
 "nbformat_minor": 5
}
